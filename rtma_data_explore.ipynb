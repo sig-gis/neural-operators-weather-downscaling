{
 "cells": [
  {
   "cell_type": "code",
   "execution_count": 1,
   "id": "947c864f",
   "metadata": {},
   "outputs": [],
   "source": [
    "import os\n",
    "import rasterio as rio\n",
    "import glob\n",
    "import shutil"
   ]
  },
  {
   "cell_type": "code",
   "execution_count": 25,
   "id": "ecff42cf",
   "metadata": {},
   "outputs": [
    {
     "name": "stdout",
     "output_type": "stream",
     "text": [
      "gs://delos-downscale/data/rtma/001_038/\n",
      "gs://delos-downscale/data/rtma/001_039/\n",
      "gs://delos-downscale/data/rtma/001_040/\n",
      "gs://delos-downscale/data/rtma/001_041/\n",
      "gs://delos-downscale/data/rtma/001_042/\n",
      "gs://delos-downscale/data/rtma/001_043/\n",
      "gs://delos-downscale/data/rtma/001_044/\n",
      "gs://delos-downscale/data/rtma/001_045/\n",
      "gs://delos-downscale/data/rtma/001_046/\n",
      "gs://delos-downscale/data/rtma/002_034/\n",
      "gs://delos-downscale/data/rtma/002_035/\n",
      "gs://delos-downscale/data/rtma/002_036/\n",
      "gs://delos-downscale/data/rtma/002_037/\n",
      "gs://delos-downscale/data/rtma/002_038/\n",
      "gs://delos-downscale/data/rtma/002_039/\n",
      "gs://delos-downscale/data/rtma/002_040/\n",
      "gs://delos-downscale/data/rtma/002_041/\n",
      "gs://delos-downscale/data/rtma/002_042/\n",
      "gs://delos-downscale/data/rtma/002_043/\n",
      "gs://delos-downscale/data/rtma/002_044/\n",
      "gs://delos-downscale/data/rtma/002_045/\n",
      "gs://delos-downscale/data/rtma/002_046/\n",
      "gs://delos-downscale/data/rtma/002_047/\n",
      "gs://delos-downscale/data/rtma/002_048/\n",
      "gs://delos-downscale/data/rtma/003_028/\n",
      "gs://delos-downscale/data/rtma/003_029/\n",
      "gs://delos-downscale/data/rtma/003_030/\n",
      "gs://delos-downscale/data/rtma/003_031/\n",
      "gs://delos-downscale/data/rtma/003_032/\n",
      "gs://delos-downscale/data/rtma/003_033/\n",
      "gs://delos-downscale/data/rtma/003_034/\n",
      "gs://delos-downscale/data/rtma/003_035/\n",
      "gs://delos-downscale/data/rtma/003_036/\n",
      "gs://delos-downscale/data/rtma/003_037/\n",
      "gs://delos-downscale/data/rtma/003_038/\n",
      "gs://delos-downscale/data/rtma/003_039/\n",
      "gs://delos-downscale/data/rtma/003_040/\n",
      "gs://delos-downscale/data/rtma/003_041/\n",
      "gs://delos-downscale/data/rtma/003_042/\n",
      "gs://delos-downscale/data/rtma/003_043/\n",
      "gs://delos-downscale/data/rtma/003_044/\n",
      "gs://delos-downscale/data/rtma/003_045/\n",
      "gs://delos-downscale/data/rtma/003_046/\n",
      "gs://delos-downscale/data/rtma/003_047/\n",
      "gs://delos-downscale/data/rtma/003_048/\n",
      "gs://delos-downscale/data/rtma/004_025/\n",
      "gs://delos-downscale/data/rtma/004_026/\n",
      "gs://delos-downscale/data/rtma/004_028/\n",
      "gs://delos-downscale/data/rtma/004_029/\n",
      "gs://delos-downscale/data/rtma/004_030/\n",
      "gs://delos-downscale/data/rtma/004_031/\n",
      "gs://delos-downscale/data/rtma/004_032/\n",
      "gs://delos-downscale/data/rtma/004_033/\n",
      "gs://delos-downscale/data/rtma/004_034/\n",
      "gs://delos-downscale/data/rtma/004_035/\n",
      "gs://delos-downscale/data/rtma/004_036/\n",
      "gs://delos-downscale/data/rtma/004_037/\n",
      "gs://delos-downscale/data/rtma/004_038/\n",
      "gs://delos-downscale/data/rtma/004_039/\n",
      "gs://delos-downscale/data/rtma/004_040/\n",
      "gs://delos-downscale/data/rtma/004_041/\n",
      "gs://delos-downscale/data/rtma/004_042/\n",
      "gs://delos-downscale/data/rtma/004_043/\n",
      "gs://delos-downscale/data/rtma/004_044/\n",
      "gs://delos-downscale/data/rtma/004_045/\n",
      "gs://delos-downscale/data/rtma/004_046/\n",
      "gs://delos-downscale/data/rtma/004_047/\n",
      "gs://delos-downscale/data/rtma/004_048/\n",
      "gs://delos-downscale/data/rtma/005_026/\n",
      "gs://delos-downscale/data/rtma/005_027/\n",
      "gs://delos-downscale/data/rtma/005_028/\n",
      "gs://delos-downscale/data/rtma/005_029/\n",
      "gs://delos-downscale/data/rtma/005_030/\n",
      "gs://delos-downscale/data/rtma/005_031/\n",
      "gs://delos-downscale/data/rtma/005_032/\n",
      "gs://delos-downscale/data/rtma/005_033/\n",
      "gs://delos-downscale/data/rtma/005_034/\n",
      "gs://delos-downscale/data/rtma/005_035/\n",
      "gs://delos-downscale/data/rtma/005_036/\n",
      "gs://delos-downscale/data/rtma/005_037/\n",
      "gs://delos-downscale/data/rtma/005_038/\n",
      "gs://delos-downscale/data/rtma/005_039/\n",
      "gs://delos-downscale/data/rtma/005_040/\n",
      "gs://delos-downscale/data/rtma/005_041/\n",
      "gs://delos-downscale/data/rtma/005_042/\n",
      "gs://delos-downscale/data/rtma/005_043/\n",
      "gs://delos-downscale/data/rtma/005_044/\n",
      "gs://delos-downscale/data/rtma/005_045/\n",
      "gs://delos-downscale/data/rtma/005_046/\n",
      "gs://delos-downscale/data/rtma/005_047/\n",
      "gs://delos-downscale/data/rtma/005_048/\n",
      "gs://delos-downscale/data/rtma/006_025/\n",
      "gs://delos-downscale/data/rtma/006_026/\n",
      "gs://delos-downscale/data/rtma/006_027/\n",
      "gs://delos-downscale/data/rtma/006_028/\n",
      "gs://delos-downscale/data/rtma/006_029/\n",
      "gs://delos-downscale/data/rtma/006_030/\n",
      "gs://delos-downscale/data/rtma/006_031/\n",
      "gs://delos-downscale/data/rtma/006_032/\n",
      "gs://delos-downscale/data/rtma/006_033/\n",
      "gs://delos-downscale/data/rtma/006_034/\n",
      "gs://delos-downscale/data/rtma/006_035/\n",
      "gs://delos-downscale/data/rtma/006_036/\n",
      "gs://delos-downscale/data/rtma/006_037/\n",
      "gs://delos-downscale/data/rtma/006_038/\n",
      "gs://delos-downscale/data/rtma/006_039/\n",
      "gs://delos-downscale/data/rtma/006_040/\n",
      "gs://delos-downscale/data/rtma/006_041/\n",
      "gs://delos-downscale/data/rtma/006_042/\n",
      "gs://delos-downscale/data/rtma/006_043/\n",
      "gs://delos-downscale/data/rtma/006_044/\n",
      "gs://delos-downscale/data/rtma/006_045/\n",
      "gs://delos-downscale/data/rtma/006_046/\n",
      "gs://delos-downscale/data/rtma/006_047/\n",
      "gs://delos-downscale/data/rtma/007_024/\n",
      "gs://delos-downscale/data/rtma/007_025/\n",
      "gs://delos-downscale/data/rtma/007_026/\n",
      "gs://delos-downscale/data/rtma/007_027/\n",
      "gs://delos-downscale/data/rtma/007_028/\n",
      "gs://delos-downscale/data/rtma/007_029/\n",
      "gs://delos-downscale/data/rtma/007_030/\n",
      "gs://delos-downscale/data/rtma/007_031/\n",
      "gs://delos-downscale/data/rtma/007_032/\n",
      "gs://delos-downscale/data/rtma/007_033/\n",
      "gs://delos-downscale/data/rtma/007_034/\n",
      "gs://delos-downscale/data/rtma/007_035/\n",
      "gs://delos-downscale/data/rtma/007_036/\n",
      "gs://delos-downscale/data/rtma/007_037/\n",
      "gs://delos-downscale/data/rtma/007_038/\n",
      "gs://delos-downscale/data/rtma/007_039/\n",
      "gs://delos-downscale/data/rtma/007_040/\n",
      "gs://delos-downscale/data/rtma/007_041/\n",
      "gs://delos-downscale/data/rtma/007_042/\n",
      "gs://delos-downscale/data/rtma/007_043/\n",
      "gs://delos-downscale/data/rtma/007_044/\n",
      "gs://delos-downscale/data/rtma/007_045/\n",
      "gs://delos-downscale/data/rtma/007_046/\n",
      "gs://delos-downscale/data/rtma/007_047/\n",
      "gs://delos-downscale/data/rtma/008_025/\n",
      "gs://delos-downscale/data/rtma/008_026/\n",
      "gs://delos-downscale/data/rtma/008_027/\n",
      "gs://delos-downscale/data/rtma/008_028/\n",
      "gs://delos-downscale/data/rtma/008_029/\n",
      "gs://delos-downscale/data/rtma/008_030/\n",
      "gs://delos-downscale/data/rtma/008_031/\n",
      "gs://delos-downscale/data/rtma/008_032/\n",
      "gs://delos-downscale/data/rtma/008_033/\n",
      "gs://delos-downscale/data/rtma/008_034/\n",
      "gs://delos-downscale/data/rtma/008_035/\n",
      "gs://delos-downscale/data/rtma/008_036/\n",
      "gs://delos-downscale/data/rtma/008_037/\n",
      "gs://delos-downscale/data/rtma/008_038/\n",
      "gs://delos-downscale/data/rtma/008_039/\n",
      "gs://delos-downscale/data/rtma/008_040/\n",
      "gs://delos-downscale/data/rtma/008_041/\n",
      "gs://delos-downscale/data/rtma/008_042/\n",
      "gs://delos-downscale/data/rtma/008_043/\n",
      "gs://delos-downscale/data/rtma/008_044/\n",
      "gs://delos-downscale/data/rtma/008_045/\n",
      "gs://delos-downscale/data/rtma/008_046/\n",
      "gs://delos-downscale/data/rtma/008_047/\n",
      "gs://delos-downscale/data/rtma/009_023/\n",
      "gs://delos-downscale/data/rtma/009_024/\n",
      "gs://delos-downscale/data/rtma/009_025/\n",
      "gs://delos-downscale/data/rtma/009_026/\n",
      "gs://delos-downscale/data/rtma/009_027/\n",
      "gs://delos-downscale/data/rtma/009_028/\n",
      "gs://delos-downscale/data/rtma/009_029/\n",
      "gs://delos-downscale/data/rtma/009_030/\n",
      "gs://delos-downscale/data/rtma/009_031/\n",
      "gs://delos-downscale/data/rtma/009_032/\n",
      "gs://delos-downscale/data/rtma/009_033/\n",
      "gs://delos-downscale/data/rtma/009_034/\n",
      "gs://delos-downscale/data/rtma/009_035/\n",
      "gs://delos-downscale/data/rtma/009_036/\n",
      "gs://delos-downscale/data/rtma/009_037/\n",
      "gs://delos-downscale/data/rtma/009_038/\n",
      "gs://delos-downscale/data/rtma/009_043/\n",
      "gs://delos-downscale/data/rtma/009_044/\n",
      "gs://delos-downscale/data/rtma/009_045/\n",
      "gs://delos-downscale/data/rtma/009_046/\n",
      "gs://delos-downscale/data/rtma/010_023/\n",
      "gs://delos-downscale/data/rtma/010_024/\n",
      "gs://delos-downscale/data/rtma/010_025/\n",
      "gs://delos-downscale/data/rtma/010_026/\n",
      "gs://delos-downscale/data/rtma/010_027/\n",
      "gs://delos-downscale/data/rtma/010_028/\n",
      "gs://delos-downscale/data/rtma/010_029/\n",
      "gs://delos-downscale/data/rtma/010_030/\n",
      "gs://delos-downscale/data/rtma/010_031/\n",
      "gs://delos-downscale/data/rtma/010_032/\n",
      "gs://delos-downscale/data/rtma/010_033/\n",
      "gs://delos-downscale/data/rtma/010_034/\n",
      "gs://delos-downscale/data/rtma/010_035/\n",
      "gs://delos-downscale/data/rtma/010_036/\n",
      "gs://delos-downscale/data/rtma/011_023/\n",
      "gs://delos-downscale/data/rtma/011_024/\n",
      "gs://delos-downscale/data/rtma/011_025/\n",
      "gs://delos-downscale/data/rtma/011_026/\n",
      "gs://delos-downscale/data/rtma/011_027/\n",
      "gs://delos-downscale/data/rtma/011_028/\n",
      "gs://delos-downscale/data/rtma/011_029/\n",
      "gs://delos-downscale/data/rtma/011_030/\n",
      "gs://delos-downscale/data/rtma/011_031/\n",
      "gs://delos-downscale/data/rtma/011_032/\n",
      "gs://delos-downscale/data/rtma/011_033/\n",
      "gs://delos-downscale/data/rtma/011_034/\n",
      "gs://delos-downscale/data/rtma/011_035/\n",
      "gs://delos-downscale/data/rtma/012_023/\n",
      "gs://delos-downscale/data/rtma/012_024/\n",
      "gs://delos-downscale/data/rtma/012_025/\n",
      "gs://delos-downscale/data/rtma/012_026/\n",
      "gs://delos-downscale/data/rtma/012_027/\n",
      "gs://delos-downscale/data/rtma/012_028/\n",
      "gs://delos-downscale/data/rtma/012_029/\n",
      "gs://delos-downscale/data/rtma/012_030/\n",
      "gs://delos-downscale/data/rtma/012_031/\n",
      "gs://delos-downscale/data/rtma/012_032/\n",
      "gs://delos-downscale/data/rtma/012_033/\n",
      "gs://delos-downscale/data/rtma/013_022/\n",
      "gs://delos-downscale/data/rtma/013_023/\n",
      "gs://delos-downscale/data/rtma/013_024/\n",
      "gs://delos-downscale/data/rtma/013_025/\n",
      "gs://delos-downscale/data/rtma/013_026/\n",
      "gs://delos-downscale/data/rtma/013_027/\n",
      "gs://delos-downscale/data/rtma/013_028/\n",
      "gs://delos-downscale/data/rtma/013_029/\n",
      "gs://delos-downscale/data/rtma/013_030/\n",
      "gs://delos-downscale/data/rtma/013_031/\n",
      "gs://delos-downscale/data/rtma/013_032/\n",
      "gs://delos-downscale/data/rtma/014_022/\n",
      "gs://delos-downscale/data/rtma/014_023/\n",
      "gs://delos-downscale/data/rtma/014_024/\n",
      "gs://delos-downscale/data/rtma/014_025/\n",
      "gs://delos-downscale/data/rtma/014_026/\n",
      "gs://delos-downscale/data/rtma/014_027/\n",
      "gs://delos-downscale/data/rtma/014_028/\n",
      "gs://delos-downscale/data/rtma/014_029/\n",
      "gs://delos-downscale/data/rtma/014_030/\n",
      "gs://delos-downscale/data/rtma/015_023/\n",
      "gs://delos-downscale/data/rtma/015_024/\n",
      "gs://delos-downscale/data/rtma/015_025/\n",
      "gs://delos-downscale/data/rtma/015_026/\n",
      "gs://delos-downscale/data/rtma/015_027/\n",
      "gs://delos-downscale/data/rtma/015_028/\n",
      "gs://delos-downscale/data/rtma/015_029/\n",
      "gs://delos-downscale/data/rtma/016_026/\n",
      "gs://delos-downscale/data/rtma/016_027/\n"
     ]
    }
   ],
   "source": [
    "!gcloud storage ls gs://delos-downscale/data/rtma/"
   ]
  },
  {
   "cell_type": "code",
   "execution_count": null,
   "id": "a7acc308",
   "metadata": {},
   "outputs": [],
   "source": [
    "path = \"./datasets/rtma/001_038/\"\n",
    "\n",
    "archives = [os.path.join(path,f) for f in os.listdir(path) if f.endswith('.tgz')]\n",
    "print(archives)\n",
    "\n",
    "for archive in archives:\n",
    "    print(\"Extracting:\", archive)\n",
    "    shutil.unpack_archive(archive, path)\n",
    "    break"
   ]
  },
  {
   "cell_type": "code",
   "execution_count": 17,
   "id": "0e39b9a9",
   "metadata": {},
   "outputs": [],
   "source": [
    "# .hdr and a .bsq file in each .tgz\n",
    "hdr_files = glob.glob(os.path.join(path, '*.hdr'))\n",
    "bsq_files = glob.glob(os.path.join(path, '*ws*.bsq'))"
   ]
  },
  {
   "cell_type": "code",
   "execution_count": 21,
   "id": "7f3b3fdf",
   "metadata": {},
   "outputs": [
    {
     "name": "stdout",
     "output_type": "stream",
     "text": [
      "./datasets/rtma/001_038/ws_2013.bsq\n",
      "./datasets/rtma/001_038/ws_2020.bsq\n",
      "./datasets/rtma/001_038/ws_2021.bsq\n",
      "./datasets/rtma/001_038/ws_2011.bsq\n",
      "./datasets/rtma/001_038/ws_2014.bsq\n",
      "./datasets/rtma/001_038/ws_2016.bsq\n",
      "./datasets/rtma/001_038/ws_2017.bsq\n",
      "./datasets/rtma/001_038/ws_2015.bsq\n",
      "./datasets/rtma/001_038/ws_2018.bsq\n",
      "./datasets/rtma/001_038/ws_2022.bsq\n",
      "./datasets/rtma/001_038/ws_2023.bsq\n",
      "./datasets/rtma/001_038/ws_2019.bsq\n",
      "./datasets/rtma/001_038/ws_2012.bsq\n"
     ]
    }
   ],
   "source": [
    "from pathlib import Path\n",
    "file_dict={}\n",
    "for bsq in bsq_files:\n",
    "    print(bsq)\n",
    "    with rio.open(bsq) as src:\n",
    "        file_dict[Path(bsq).stem] = src.count\n",
    "        src.close()"
   ]
  },
  {
   "cell_type": "code",
   "execution_count": 26,
   "id": "ec524558",
   "metadata": {},
   "outputs": [
    {
     "name": "stdout",
     "output_type": "stream",
     "text": [
      "{'ws_2011': 10224,\n",
      " 'ws_2012': 10944,\n",
      " 'ws_2013': 10920,\n",
      " 'ws_2014': 10920,\n",
      " 'ws_2015': 10920,\n",
      " 'ws_2016': 10944,\n",
      " 'ws_2017': 10920,\n",
      " 'ws_2018': 10920,\n",
      " 'ws_2019': 10920,\n",
      " 'ws_2020': 10944,\n",
      " 'ws_2021': 10920,\n",
      " 'ws_2022': 10920,\n",
      " 'ws_2023': 6281}\n"
     ]
    }
   ],
   "source": [
    "from pprint import pprint\n",
    "pprint(file_dict)"
   ]
  },
  {
   "cell_type": "code",
   "execution_count": null,
   "id": "bc97c878",
   "metadata": {},
   "outputs": [
    {
     "name": "stdout",
     "output_type": "stream",
     "text": [
      "Counter({10920: 8, 10944: 3, 10224: 1, 6281: 1})\n"
     ]
    }
   ],
   "source": [
    "# weirdly have diff # of bands in each file, was expecting 365*24 bands if its a year's worth of hour observations.\n",
    "# Val was able to confirm that this was intentional to model fires that started at end of year, so you have data to use for modeling spread into the next year\n",
    "from collections import Counter\n",
    "frequency_counter = Counter(list(file_dict.values()))\n",
    "print(frequency_counter)"
   ]
  },
  {
   "cell_type": "code",
   "execution_count": 28,
   "id": "0df0448f",
   "metadata": {},
   "outputs": [
    {
     "name": "stdout",
     "output_type": "stream",
     "text": [
      "hours beyond one year Counter({2160: 8, 2184: 3, 1464: 1, -2479: 1})\n",
      "days beyond one year Counter({90.0: 8, 91.0: 3, 61.0: 1, -103.29166666666667: 1})\n"
     ]
    }
   ],
   "source": [
    "hours_over = [v-(24*365) for v in list(file_dict.values())] # hours over one year's worth of hourly observations\n",
    "print(\"hours beyond one year\",Counter(hours_over))\n",
    "print(\"days beyond one year\",Counter([v/24 for v in hours_over])) # how many days typically trying to extend"
   ]
  },
  {
   "cell_type": "code",
   "execution_count": 50,
   "id": "069d7e3b",
   "metadata": {},
   "outputs": [
    {
     "name": "stdout",
     "output_type": "stream",
     "text": [
      "{'driver': 'ENVI', 'dtype': 'float32', 'nodata': -9999.0, 'width': 40, 'height': 40, 'count': 10944, 'crs': CRS.from_wkt('PROJCS[\"NAD83 / Conus Albers\",GEOGCS[\"NAD83\",DATUM[\"North_American_Datum_1983\",SPHEROID[\"GRS 1980\",6378137,298.257222101,AUTHORITY[\"EPSG\",\"7019\"]],AUTHORITY[\"EPSG\",\"6269\"]],PRIMEM[\"Greenwich\",0,AUTHORITY[\"EPSG\",\"8901\"]],UNIT[\"degree\",0.0174532925199433,AUTHORITY[\"EPSG\",\"9122\"]],AUTHORITY[\"EPSG\",\"4269\"]],PROJECTION[\"Albers_Conic_Equal_Area\"],PARAMETER[\"latitude_of_center\",23],PARAMETER[\"longitude_of_center\",-96],PARAMETER[\"standard_parallel_1\",29.5],PARAMETER[\"standard_parallel_2\",45.5],PARAMETER[\"false_easting\",0],PARAMETER[\"false_northing\",0],UNIT[\"metre\",1,AUTHORITY[\"EPSG\",\"9001\"]],AXIS[\"Easting\",EAST],AXIS[\"Northing\",NORTH],AUTHORITY[\"EPSG\",\"5070\"]]'), 'transform': Affine(1200.0, -0.0, -2362425.0,\n",
      "       -0.0, -1200.0, 2049435.0), 'blockxsize': 40, 'blockysize': 1, 'tiled': False, 'interleave': 'band'}\n"
     ]
    }
   ],
   "source": [
    "with rio.open(bsq) as src:\n",
    "    print(src.profile)\n",
    "    arr = src.read()"
   ]
  },
  {
   "cell_type": "code",
   "execution_count": null,
   "id": "1d235ca0",
   "metadata": {},
   "outputs": [
    {
     "name": "stdout",
     "output_type": "stream",
     "text": [
      "| 1200.00,-0.00,-2362425.00|\n",
      "|-0.00,-1200.00, 2049435.00|\n",
      "| 0.00, 0.00, 1.00|\n"
     ]
    },
    {
     "name": "stderr",
     "output_type": "stream",
     "text": [
      "ERROR 10: Pointer 'hObject' is NULL in 'GDALGetMetadata'.\n",
      "\n",
      "ERROR 10: Pointer 'hObject' is NULL in 'GDALGetMetadata'.\n",
      "\n",
      "ERROR 10: Pointer 'hObject' is NULL in 'GDALGetMetadata'.\n",
      "\n"
     ]
    }
   ],
   "source": [
    "t = src.profile['transform'] # ux,y scale is 1200m, CRS linear unit is in degree\n",
    "print(t)"
   ]
  },
  {
   "cell_type": "code",
   "execution_count": 52,
   "id": "344e46d3",
   "metadata": {},
   "outputs": [
    {
     "data": {
      "text/plain": [
       "(10944, 40, 40)"
      ]
     },
     "execution_count": 52,
     "metadata": {},
     "output_type": "execute_result"
    }
   ],
   "source": [
    "arr.shape"
   ]
  },
  {
   "cell_type": "code",
   "execution_count": null,
   "id": "205902f9",
   "metadata": {},
   "outputs": [
    {
     "data": {
      "text/plain": [
       "torch.Size([40, 10944, 40])"
      ]
     },
     "execution_count": 58,
     "metadata": {},
     "output_type": "execute_result"
    }
   ],
   "source": [
    "# parse into single-hour samples\n",
    "import torch\n",
    "t = torch.Tensor(arr)\n",
    "t.shape\n",
    "tt = torch.transpose(t,0,1)\n",
    "tt.shape\n",
    "torch.re"
   ]
  },
  {
   "cell_type": "code",
   "execution_count": 53,
   "id": "e8a2330f",
   "metadata": {},
   "outputs": [
    {
     "name": "stdout",
     "output_type": "stream",
     "text": [
      "Original shape: (3, 4, 5)\n",
      "Expanded shape: (1, 3, 4, 5)\n",
      "Expanded shape using reshape(): (1, 3, 4, 5)\n"
     ]
    }
   ],
   "source": [
    "import numpy as np\n",
    "\n",
    "# Example array with shape (3, 4, 5) representing (C, H, W)\n",
    "my_array = np.random.rand(3, 4, 5) \n",
    "print(\"Original shape:\", my_array.shape) \n",
    "\n",
    "# Add a batch dimension using expand_dims()\n",
    "expanded_array = np.expand_dims(my_array, axis=0)\n",
    "print(\"Expanded shape:\", expanded_array.shape) \n",
    "\n",
    "# Example using reshape()\n",
    "expanded_array_reshape = my_array.reshape((1, my_array.shape[0], my_array.shape[1], my_array.shape[2]))\n",
    "print(\"Expanded shape using reshape():\", expanded_array_reshape.shape)\n"
   ]
  },
  {
   "cell_type": "code",
   "execution_count": null,
   "id": "40760492",
   "metadata": {},
   "outputs": [],
   "source": []
  }
 ],
 "metadata": {
  "kernelspec": {
   "display_name": "eofm2",
   "language": "python",
   "name": "python3"
  },
  "language_info": {
   "codemirror_mode": {
    "name": "ipython",
    "version": 3
   },
   "file_extension": ".py",
   "mimetype": "text/x-python",
   "name": "python",
   "nbconvert_exporter": "python",
   "pygments_lexer": "ipython3",
   "version": "3.10.13"
  }
 },
 "nbformat": 4,
 "nbformat_minor": 5
}
