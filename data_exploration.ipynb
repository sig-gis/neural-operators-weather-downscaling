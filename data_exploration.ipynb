{
 "cells": [
  {
   "cell_type": "code",
   "execution_count": 2,
   "id": "dfbaf001",
   "metadata": {},
   "outputs": [],
   "source": [
    "import os\n",
    "import numpy as np\n",
    "import h5py\n",
    "import rasterio\n",
    "\n",
    "data_root = './datasets/era5/train/2008.h5'\n",
    "\n",
    "windninja_root = './datasets/windninja/delos_wind_layer_5070.tif'"
   ]
  },
  {
   "cell_type": "code",
   "execution_count": 3,
   "id": "bc004ce0",
   "metadata": {},
   "outputs": [
    {
     "name": "stdout",
     "output_type": "stream",
     "text": [
      "<HDF5 dataset \"fields\": shape (365, 3, 721, 1440), type \"<f4\">\n",
      "<HDF5 file \"2008.h5\" (mode r)>\n"
     ]
    }
   ],
   "source": [
    "with h5py.File(data_root,'r') as f:\n",
    "    print(f['fields'])\n",
    "    print(f)"
   ]
  },
  {
   "cell_type": "code",
   "execution_count": 13,
   "id": "3a3deb58",
   "metadata": {},
   "outputs": [
    {
     "data": {
      "text/plain": [
       "(1, 42691, 38820)"
      ]
     },
     "execution_count": 13,
     "metadata": {},
     "output_type": "execute_result"
    }
   ],
   "source": [
    "raster = rasterio.open(windninja_root)\n",
    "arr = raster.read()\n",
    "arr.shape"
   ]
  }
 ],
 "metadata": {
  "kernelspec": {
   "display_name": "downscaling",
   "language": "python",
   "name": "python3"
  },
  "language_info": {
   "codemirror_mode": {
    "name": "ipython",
    "version": 3
   },
   "file_extension": ".py",
   "mimetype": "text/x-python",
   "name": "python",
   "nbconvert_exporter": "python",
   "pygments_lexer": "ipython3",
   "version": "3.9.21"
  }
 },
 "nbformat": 4,
 "nbformat_minor": 5
}
