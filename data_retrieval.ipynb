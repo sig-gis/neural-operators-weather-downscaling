{
 "cells": [
  {
   "cell_type": "code",
   "execution_count": 1,
   "id": "c028a5b4",
   "metadata": {},
   "outputs": [],
   "source": [
    "import numpy as np\n",
    "import cdsapi\n",
    "import datetime\n",
    "import os"
   ]
  },
  {
   "cell_type": "code",
   "execution_count": null,
   "id": "725b66f8",
   "metadata": {},
   "outputs": [
    {
     "name": "stdout",
     "output_type": "stream",
     "text": [
      "['2010', '2011', '2012', '2013', '2014', '2015', '2016', '2017', '2018', '2019', '2020']\n"
     ]
    }
   ],
   "source": [
    "dataset = \"reanalysis-era5-single-levels\"\n",
    "\n",
    "start_year = 2010\n",
    "end_year = 2020\n",
    "\n",
    "# years = ['2020']\n",
    "years = [ str(start_year +i ) for i in range(end_year - start_year + 1)] \n",
    "print(years)\n",
    "start_day = 1\n",
    "end_day = 31\n",
    "days = [ str(start_day +i ).zfill(2) for i in range(end_day - start_day + 1)]\n",
    "\n",
    "variable_list = [\n",
    "        \"10m_u_component_of_wind\",\n",
    "        \"10m_v_component_of_wind\",\n",
    "        \"2m_temperature\",\n",
    "        \"surface_pressure\",\n",
    "        # \"total_precipitation\",\n",
    "        \"geopotential\",\n",
    "        \"total_column_water\"\n",
    "    ]\n",
    "file_format = 'netcdf'\n",
    "download_format = 'zip'\n",
    "\n",
    "downloaded_file = 'ERA5-hourly.nc'\n",
    "\n",
    "request = {\n",
    "    'product_type':['reanalysis'],\n",
    "    'variable':variable_list,\n",
    "    'year':years,\n",
    "    'day':days,\n",
    "    'month': ['01', '02', '03',\n",
    "                   '04', '05', '06',\n",
    "                   '07', '08', '09',\n",
    "                   '10', '11', '12'],\n",
    "    'time': [\n",
    "            '00:00', '01:00', '02:00',\n",
    "            '03:00', '04:00', '05:00',\n",
    "            '06:00', '07:00', '08:00',\n",
    "            '09:00', '10:00', '11:00',\n",
    "            '12:00', '13:00', '14:00',\n",
    "            '15:00', '16:00', '17:00',\n",
    "            '18:00', '19:00', '20:00',\n",
    "            '21:00', '22:00', '23:00',\n",
    "        ],\n",
    "    'data_format':file_format,\n",
    "    'download_format':download_format\n",
    "}"
   ]
  },
  {
   "cell_type": "code",
   "execution_count": 16,
   "id": "c3fd8cb6",
   "metadata": {},
   "outputs": [
    {
     "name": "stderr",
     "output_type": "stream",
     "text": [
      "2025-05-27 10:14:23,057 INFO [2024-09-26T00:00:00] Watch our [Forum](https://forum.ecmwf.int/) for Announcements, news and other discussed topics.\n",
      "2025-05-27 10:14:23,058 WARNING [2024-06-16T00:00:00] CDS API syntax is changed and some keys or parameter names may have also changed. To avoid requests failing, please use the \"Show API request code\" tool on the dataset Download Form to check you are using the correct syntax for your API request.\n",
      "2025-05-27 10:14:24,256 INFO Request ID is 3423f151-9967-4119-b8de-c590850a2754\n",
      "2025-05-27 10:14:24,458 INFO status has been updated to accepted\n",
      "2025-05-27 10:14:33,707 INFO status has been updated to running\n",
      "2025-05-27 10:24:50,170 INFO status has been updated to successful\n",
      "                                                                                            \r"
     ]
    },
    {
     "data": {
      "text/plain": [
       "'ERA5-hourly.nc'"
      ]
     },
     "execution_count": 16,
     "metadata": {},
     "output_type": "execute_result"
    }
   ],
   "source": [
    "client = cdsapi.Client()\n",
    "\n",
    "client.retrieve(dataset,request,downloaded_file)"
   ]
  },
  {
   "cell_type": "markdown",
   "id": "e2297044",
   "metadata": {},
   "source": [
    "---\n",
    "\n",
    "SRTM Elevation Map\n",
    "\n",
    "---"
   ]
  },
  {
   "cell_type": "code",
   "execution_count": 1,
   "id": "acac0491",
   "metadata": {},
   "outputs": [],
   "source": [
    "import ee\n",
    "import numpy as np\n",
    "\n",
    "ee.Authenticate()\n",
    "ee.Initialize(project='eofm-benchmark')"
   ]
  },
  {
   "cell_type": "code",
   "execution_count": 9,
   "id": "ca8e54f3",
   "metadata": {},
   "outputs": [],
   "source": [
    "california_lat_min = 32.3\n",
    "california_lat_max = 42.2\n",
    "\n",
    "california_lon_min = -124.7\n",
    "california_lon_max = -113.9\n",
    "california_bbox = ee.Geometry.BBox(california_lon_min,california_lat_min,california_lon_max,california_lat_max)\n",
    "\n",
    "\n",
    "oregon_lat_min = 41.99\n",
    "oregon_lat_max = 46.29\n",
    "\n",
    "oregon_lon_min = -124.56\n",
    "oregon_lon_max = -116.47\n",
    "oregon_bbox = ee.Geometry.BBox(oregon_lon_min,oregon_lat_min,oregon_lon_max,oregon_lat_max)"
   ]
  },
  {
   "cell_type": "code",
   "execution_count": null,
   "id": "641d4cfa",
   "metadata": {},
   "outputs": [
    {
     "ename": "EEException",
     "evalue": "Total request size (1352652375 bytes) must be less than or equal to 50331648 bytes.",
     "output_type": "error",
     "traceback": [
      "\u001b[0;31m---------------------------------------------------------------------------\u001b[0m",
      "\u001b[0;31mHttpError\u001b[0m                                 Traceback (most recent call last)",
      "File \u001b[0;32m~/miniconda3/envs/downscaling/lib/python3.9/site-packages/ee/data.py:408\u001b[0m, in \u001b[0;36m_execute_cloud_call\u001b[0;34m(call, num_retries)\u001b[0m\n\u001b[1;32m    407\u001b[0m \u001b[38;5;28;01mtry\u001b[39;00m:\n\u001b[0;32m--> 408\u001b[0m   \u001b[38;5;28;01mreturn\u001b[39;00m \u001b[43mcall\u001b[49m\u001b[38;5;241;43m.\u001b[39;49m\u001b[43mexecute\u001b[49m\u001b[43m(\u001b[49m\u001b[43mnum_retries\u001b[49m\u001b[38;5;241;43m=\u001b[39;49m\u001b[43mnum_retries\u001b[49m\u001b[43m)\u001b[49m\n\u001b[1;32m    409\u001b[0m \u001b[38;5;28;01mexcept\u001b[39;00m googleapiclient\u001b[38;5;241m.\u001b[39merrors\u001b[38;5;241m.\u001b[39mHttpError \u001b[38;5;28;01mas\u001b[39;00m e:\n",
      "File \u001b[0;32m~/miniconda3/envs/downscaling/lib/python3.9/site-packages/googleapiclient/_helpers.py:130\u001b[0m, in \u001b[0;36mpositional.<locals>.positional_decorator.<locals>.positional_wrapper\u001b[0;34m(*args, **kwargs)\u001b[0m\n\u001b[1;32m    129\u001b[0m         logger\u001b[38;5;241m.\u001b[39mwarning(message)\n\u001b[0;32m--> 130\u001b[0m \u001b[38;5;28;01mreturn\u001b[39;00m \u001b[43mwrapped\u001b[49m\u001b[43m(\u001b[49m\u001b[38;5;241;43m*\u001b[39;49m\u001b[43margs\u001b[49m\u001b[43m,\u001b[49m\u001b[43m \u001b[49m\u001b[38;5;241;43m*\u001b[39;49m\u001b[38;5;241;43m*\u001b[39;49m\u001b[43mkwargs\u001b[49m\u001b[43m)\u001b[49m\n",
      "File \u001b[0;32m~/miniconda3/envs/downscaling/lib/python3.9/site-packages/googleapiclient/http.py:938\u001b[0m, in \u001b[0;36mHttpRequest.execute\u001b[0;34m(self, http, num_retries)\u001b[0m\n\u001b[1;32m    937\u001b[0m \u001b[38;5;28;01mif\u001b[39;00m resp\u001b[38;5;241m.\u001b[39mstatus \u001b[38;5;241m>\u001b[39m\u001b[38;5;241m=\u001b[39m \u001b[38;5;241m300\u001b[39m:\n\u001b[0;32m--> 938\u001b[0m     \u001b[38;5;28;01mraise\u001b[39;00m HttpError(resp, content, uri\u001b[38;5;241m=\u001b[39m\u001b[38;5;28mself\u001b[39m\u001b[38;5;241m.\u001b[39muri)\n\u001b[1;32m    939\u001b[0m \u001b[38;5;28;01mreturn\u001b[39;00m \u001b[38;5;28mself\u001b[39m\u001b[38;5;241m.\u001b[39mpostproc(resp, content)\n",
      "\u001b[0;31mHttpError\u001b[0m: <HttpError 400 when requesting https://earthengine.googleapis.com/v1/projects/eofm-benchmark/image:computePixels? returned \"Total request size (1352652375 bytes) must be less than or equal to 50331648 bytes.\". Details: \"Total request size (1352652375 bytes) must be less than or equal to 50331648 bytes.\">",
      "\nDuring handling of the above exception, another exception occurred:\n",
      "\u001b[0;31mEEException\u001b[0m                               Traceback (most recent call last)",
      "Cell \u001b[0;32mIn[10], line 8\u001b[0m\n\u001b[1;32m      1\u001b[0m dataset \u001b[38;5;241m=\u001b[39m ee\u001b[38;5;241m.\u001b[39mImage(\u001b[38;5;124m'\u001b[39m\u001b[38;5;124mUSGS/SRTMGL1_003\u001b[39m\u001b[38;5;124m'\u001b[39m)\u001b[38;5;241m.\u001b[39mclip(oregon_bbox)\u001b[38;5;241m.\u001b[39mselect(\u001b[38;5;124m'\u001b[39m\u001b[38;5;124melevation\u001b[39m\u001b[38;5;124m'\u001b[39m)\n\u001b[1;32m      3\u001b[0m request \u001b[38;5;241m=\u001b[39m {\n\u001b[1;32m      4\u001b[0m     \u001b[38;5;124m'\u001b[39m\u001b[38;5;124mexpression\u001b[39m\u001b[38;5;124m'\u001b[39m: dataset,\n\u001b[1;32m      5\u001b[0m     \u001b[38;5;124m'\u001b[39m\u001b[38;5;124mfileFormat\u001b[39m\u001b[38;5;124m'\u001b[39m:\u001b[38;5;124m'\u001b[39m\u001b[38;5;124mNUMPY_NDARRAY\u001b[39m\u001b[38;5;124m'\u001b[39m\n\u001b[1;32m      6\u001b[0m }\n\u001b[0;32m----> 8\u001b[0m data \u001b[38;5;241m=\u001b[39m \u001b[43mee\u001b[49m\u001b[38;5;241;43m.\u001b[39;49m\u001b[43mdata\u001b[49m\u001b[38;5;241;43m.\u001b[39;49m\u001b[43mcomputePixels\u001b[49m\u001b[43m(\u001b[49m\u001b[43mrequest\u001b[49m\u001b[43m)\u001b[49m\n\u001b[1;32m     11\u001b[0m \u001b[38;5;28mprint\u001b[39m(data\u001b[38;5;241m.\u001b[39mshape)\n\u001b[1;32m     12\u001b[0m np\u001b[38;5;241m.\u001b[39msave(\u001b[38;5;124m'\u001b[39m\u001b[38;5;124mtest_array.npy\u001b[39m\u001b[38;5;124m'\u001b[39m,data)\n",
      "File \u001b[0;32m~/miniconda3/envs/downscaling/lib/python3.9/site-packages/ee/data.py:954\u001b[0m, in \u001b[0;36mcomputePixels\u001b[0;34m(params)\u001b[0m\n\u001b[1;32m    950\u001b[0m params[\u001b[38;5;124m'\u001b[39m\u001b[38;5;124mfileFormat\u001b[39m\u001b[38;5;124m'\u001b[39m] \u001b[38;5;241m=\u001b[39m _cloud_api_utils\u001b[38;5;241m.\u001b[39mconvert_to_image_file_format(\n\u001b[1;32m    951\u001b[0m     converter\u001b[38;5;241m.\u001b[39mexpected_data_format()\n\u001b[1;32m    952\u001b[0m )\n\u001b[1;32m    953\u001b[0m _maybe_populate_workload_tag(params)\n\u001b[0;32m--> 954\u001b[0m data \u001b[38;5;241m=\u001b[39m \u001b[43m_execute_cloud_call\u001b[49m\u001b[43m(\u001b[49m\n\u001b[1;32m    955\u001b[0m \u001b[43m    \u001b[49m\u001b[43m_get_cloud_projects_raw\u001b[49m\u001b[43m(\u001b[49m\u001b[43m)\u001b[49m\n\u001b[1;32m    956\u001b[0m \u001b[43m    \u001b[49m\u001b[38;5;241;43m.\u001b[39;49m\u001b[43mimage\u001b[49m\u001b[43m(\u001b[49m\u001b[43m)\u001b[49m\n\u001b[1;32m    957\u001b[0m \u001b[43m    \u001b[49m\u001b[38;5;241;43m.\u001b[39;49m\u001b[43mcomputePixels\u001b[49m\u001b[43m(\u001b[49m\u001b[43mproject\u001b[49m\u001b[38;5;241;43m=\u001b[39;49m\u001b[43m_get_projects_path\u001b[49m\u001b[43m(\u001b[49m\u001b[43m)\u001b[49m\u001b[43m,\u001b[49m\u001b[43m \u001b[49m\u001b[43mbody\u001b[49m\u001b[38;5;241;43m=\u001b[39;49m\u001b[43mparams\u001b[49m\u001b[43m)\u001b[49m\n\u001b[1;32m    958\u001b[0m \u001b[43m\u001b[49m\u001b[43m)\u001b[49m\n\u001b[1;32m    959\u001b[0m \u001b[38;5;28;01mif\u001b[39;00m converter:\n\u001b[1;32m    960\u001b[0m   \u001b[38;5;28;01mreturn\u001b[39;00m converter\u001b[38;5;241m.\u001b[39mdo_conversion(data)\n",
      "File \u001b[0;32m~/miniconda3/envs/downscaling/lib/python3.9/site-packages/ee/data.py:410\u001b[0m, in \u001b[0;36m_execute_cloud_call\u001b[0;34m(call, num_retries)\u001b[0m\n\u001b[1;32m    408\u001b[0m   \u001b[38;5;28;01mreturn\u001b[39;00m call\u001b[38;5;241m.\u001b[39mexecute(num_retries\u001b[38;5;241m=\u001b[39mnum_retries)\n\u001b[1;32m    409\u001b[0m \u001b[38;5;28;01mexcept\u001b[39;00m googleapiclient\u001b[38;5;241m.\u001b[39merrors\u001b[38;5;241m.\u001b[39mHttpError \u001b[38;5;28;01mas\u001b[39;00m e:\n\u001b[0;32m--> 410\u001b[0m   \u001b[38;5;28;01mraise\u001b[39;00m _translate_cloud_exception(e)\n",
      "\u001b[0;31mEEException\u001b[0m: Total request size (1352652375 bytes) must be less than or equal to 50331648 bytes."
     ]
    }
   ],
   "source": [
    "dataset = ee.Image('USGS/SRTMGL1_003').clip(oregon_bbox).select('elevation')\n",
    "\n",
    "request = {\n",
    "    'expression': dataset,\n",
    "    'fileFormat':'NUMPY_NDARRAY'\n",
    "}\n",
    "\n",
    "data = ee.data.computePixels(request)\n",
    "\n",
    "\n",
    "print(data.shape)\n",
    "np.save('test_array.npy',data)\n",
    "\n",
    "# ee.batch.Export.image.toCloudStorage(\n",
    "\n",
    "# )\n"
   ]
  }
 ],
 "metadata": {
  "kernelspec": {
   "display_name": "downscaling",
   "language": "python",
   "name": "python3"
  },
  "language_info": {
   "codemirror_mode": {
    "name": "ipython",
    "version": 3
   },
   "file_extension": ".py",
   "mimetype": "text/x-python",
   "name": "python",
   "nbconvert_exporter": "python",
   "pygments_lexer": "ipython3",
   "version": "3.9.21"
  }
 },
 "nbformat": 4,
 "nbformat_minor": 5
}
