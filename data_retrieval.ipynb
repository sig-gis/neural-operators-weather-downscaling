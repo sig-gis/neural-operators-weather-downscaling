{
 "cells": [
  {
   "cell_type": "code",
   "execution_count": 1,
   "id": "c028a5b4",
   "metadata": {},
   "outputs": [],
   "source": [
    "import numpy as np\n",
    "import cdsapi\n",
    "import datetime\n",
    "import os"
   ]
  },
  {
   "cell_type": "code",
   "execution_count": null,
   "id": "725b66f8",
   "metadata": {},
   "outputs": [
    {
     "name": "stdout",
     "output_type": "stream",
     "text": [
      "['2010', '2011', '2012', '2013', '2014', '2015', '2016', '2017', '2018', '2019', '2020']\n"
     ]
    }
   ],
   "source": [
    "dataset = \"reanalysis-era5-single-levels\"\n",
    "\n",
    "start_year = 2010\n",
    "end_year = 2020\n",
    "\n",
    "# years = ['2020']\n",
    "years = [ str(start_year +i ) for i in range(end_year - start_year + 1)] \n",
    "print(years)\n",
    "start_day = 1\n",
    "end_day = 31\n",
    "days = [ str(start_day +i ).zfill(2) for i in range(end_day - start_day + 1)]\n",
    "\n",
    "variable_list = [\n",
    "        \"10m_u_component_of_wind\",\n",
    "        \"10m_v_component_of_wind\",\n",
    "        \"2m_temperature\",\n",
    "        \"surface_pressure\",\n",
    "        # \"total_precipitation\",\n",
    "        \"geopotential\",\n",
    "        \"total_column_water\"\n",
    "    ]\n",
    "file_format = 'netcdf'\n",
    "download_format = 'zip'\n",
    "\n",
    "downloaded_file = 'ERA5-hourly.nc'\n",
    "\n",
    "request = {\n",
    "    'product_type':['reanalysis'],\n",
    "    'variable':variable_list,\n",
    "    'year':years,\n",
    "    'day':days,\n",
    "    'month': ['01', '02', '03',\n",
    "                   '04', '05', '06',\n",
    "                   '07', '08', '09',\n",
    "                   '10', '11', '12'],\n",
    "    'time': [\n",
    "            '00:00', '01:00', '02:00',\n",
    "            '03:00', '04:00', '05:00',\n",
    "            '06:00', '07:00', '08:00',\n",
    "            '09:00', '10:00', '11:00',\n",
    "            '12:00', '13:00', '14:00',\n",
    "            '15:00', '16:00', '17:00',\n",
    "            '18:00', '19:00', '20:00',\n",
    "            '21:00', '22:00', '23:00',\n",
    "        ],\n",
    "    'data_format':file_format,\n",
    "    'download_format':download_format\n",
    "}"
   ]
  },
  {
   "cell_type": "code",
   "execution_count": 16,
   "id": "c3fd8cb6",
   "metadata": {},
   "outputs": [
    {
     "name": "stderr",
     "output_type": "stream",
     "text": [
      "2025-05-27 10:14:23,057 INFO [2024-09-26T00:00:00] Watch our [Forum](https://forum.ecmwf.int/) for Announcements, news and other discussed topics.\n",
      "2025-05-27 10:14:23,058 WARNING [2024-06-16T00:00:00] CDS API syntax is changed and some keys or parameter names may have also changed. To avoid requests failing, please use the \"Show API request code\" tool on the dataset Download Form to check you are using the correct syntax for your API request.\n",
      "2025-05-27 10:14:24,256 INFO Request ID is 3423f151-9967-4119-b8de-c590850a2754\n",
      "2025-05-27 10:14:24,458 INFO status has been updated to accepted\n",
      "2025-05-27 10:14:33,707 INFO status has been updated to running\n",
      "2025-05-27 10:24:50,170 INFO status has been updated to successful\n",
      "                                                                                            \r"
     ]
    },
    {
     "data": {
      "text/plain": [
       "'ERA5-hourly.nc'"
      ]
     },
     "execution_count": 16,
     "metadata": {},
     "output_type": "execute_result"
    }
   ],
   "source": [
    "client = cdsapi.Client()\n",
    "\n",
    "client.retrieve(dataset,request,downloaded_file)"
   ]
  }
 ],
 "metadata": {
  "kernelspec": {
   "display_name": "downscaling",
   "language": "python",
   "name": "python3"
  },
  "language_info": {
   "codemirror_mode": {
    "name": "ipython",
    "version": 3
   },
   "file_extension": ".py",
   "mimetype": "text/x-python",
   "name": "python",
   "nbconvert_exporter": "python",
   "pygments_lexer": "ipython3",
   "version": "3.9.21"
  }
 },
 "nbformat": 4,
 "nbformat_minor": 5
}
